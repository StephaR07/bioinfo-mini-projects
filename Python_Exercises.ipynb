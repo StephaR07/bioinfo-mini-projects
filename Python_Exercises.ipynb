{
  "nbformat": 4,
  "nbformat_minor": 0,
  "metadata": {
    "colab": {
      "provenance": [],
      "include_colab_link": true
    },
    "kernelspec": {
      "name": "python3",
      "display_name": "Python 3"
    },
    "language_info": {
      "name": "python"
    }
  },
  "cells": [
    {
      "cell_type": "markdown",
      "metadata": {
        "id": "view-in-github",
        "colab_type": "text"
      },
      "source": [
        "<a href=\"https://colab.research.google.com/github/StephaR07/bioinfo-mini-projects/blob/main/Python_Exercises.ipynb\" target=\"_parent\"><img src=\"https://colab.research.google.com/assets/colab-badge.svg\" alt=\"Open In Colab\"/></a>"
      ]
    },
    {
      "cell_type": "markdown",
      "source": [
        "Write a function that takes a DNA sequence as a string and returns its reverse complement."
      ],
      "metadata": {
        "id": "VSFW1rNCslGq"
      }
    },
    {
      "cell_type": "code",
      "execution_count": null,
      "metadata": {
        "colab": {
          "base_uri": "https://localhost:8080/"
        },
        "id": "-uCNwrdsiZbY",
        "outputId": "848e56d3-9459-481f-c95a-8226b185add5"
      },
      "outputs": [
        {
          "output_type": "stream",
          "name": "stdout",
          "text": [
            "CGATGA\n"
          ]
        }
      ],
      "source": [
        "sequence = \"AGTAGC\"\n",
        "sequence_reverse = sequence[::-1]\n",
        "print(sequence_reverse)"
      ]
    },
    {
      "cell_type": "code",
      "source": [
        "sequence = \"AGTAGC\"\n",
        "sequence_reverse = sequence[::-2]\n",
        "print(sequence_reverse)"
      ],
      "metadata": {
        "colab": {
          "base_uri": "https://localhost:8080/"
        },
        "id": "r93PXuIAjfgE",
        "outputId": "9db378c7-fe4b-49ac-9723-92bf4b6ad6d0"
      },
      "execution_count": null,
      "outputs": [
        {
          "output_type": "stream",
          "name": "stdout",
          "text": [
            "ATG\n"
          ]
        }
      ]
    },
    {
      "cell_type": "markdown",
      "source": [
        "Write a program that searches for a specific motif (short sequence) within a larger DNA sequence and prints all its starting positions."
      ],
      "metadata": {
        "id": "bQknzypRtK9A"
      }
    },
    {
      "cell_type": "code",
      "source": [
        "sequence = \"AGTGGTACTAAGCATGTACCTAACCTGGAGGATTTAACATGGTACCGTTCGTCGAATTAACAATGGATCAATTAAGC\"\n",
        "part_need= \"TAA\"\n",
        "index = sequence.find(part_need)\n",
        "print (index)"
      ],
      "metadata": {
        "colab": {
          "base_uri": "https://localhost:8080/"
        },
        "id": "MeHhk5fqoPMz",
        "outputId": "415a26ea-dc51-4738-a3b8-509de14ac52b"
      },
      "execution_count": null,
      "outputs": [
        {
          "output_type": "stream",
          "name": "stdout",
          "text": [
            "8\n"
          ]
        }
      ]
    },
    {
      "cell_type": "code",
      "source": [
        "import re\n",
        "\n",
        "sequence = \"AGTGGTACTAAGCATGTACCTAACCTGGAGGATTTAACATGGTACCGTTCGTCGAATTAACAATGGATCAATTAAGC\"\n",
        "part_need = \"TAA\"\n",
        "\n",
        "indices = [match.start() for match in re.finditer(part_need, sequence)]\n",
        "print(indices)"
      ],
      "metadata": {
        "colab": {
          "base_uri": "https://localhost:8080/"
        },
        "id": "yM5aWQsSpZlN",
        "outputId": "a8975d66-3b2d-4993-b6ed-a79824187ad1"
      },
      "execution_count": null,
      "outputs": [
        {
          "output_type": "stream",
          "name": "stdout",
          "text": [
            "[8, 20, 34, 57, 72]\n"
          ]
        }
      ]
    },
    {
      "cell_type": "markdown",
      "source": [
        "Given a DNA sequence, transcribe it into an RNA sequence by replacing all 'T's with 'U's.\n",
        "\n"
      ],
      "metadata": {
        "id": "PJMYSkO7vmBn"
      }
    },
    {
      "cell_type": "code",
      "source": [
        "sequence = \"AGTGCAATGCTAACATGC\"\n",
        "mutated_sequence = sequence.replace(\"T\",\"U\")\n",
        "print(f\"This is the mutated sequence: {mutated_sequence}\")"
      ],
      "metadata": {
        "colab": {
          "base_uri": "https://localhost:8080/"
        },
        "id": "ILWtAvRutvoq",
        "outputId": "08485958-c426-481a-c0da-30b9ee7dc950"
      },
      "execution_count": null,
      "outputs": [
        {
          "output_type": "stream",
          "name": "stdout",
          "text": [
            "This is the mutated sequence: AGUGCAAUGCUAACAUGC\n"
          ]
        }
      ]
    },
    {
      "cell_type": "markdown",
      "source": [
        "Given a list of gene expression levels, create a new list containing only the genes with expression levels above a certain threshold."
      ],
      "metadata": {
        "id": "1cyA95SLwWGd"
      }
    },
    {
      "cell_type": "code",
      "source": [
        "gene_ids = [\"GENE001\", \"GENE002\", \"GENE003\", \"GENE002\"]\n",
        "\n",
        "# Count occurrences of \"GENE002\"\n",
        "count = gene_ids.count(\"GENE002\")\n",
        "print(f\"Count of 'GENE002': {count}\")\n",
        "\n",
        "# Find the index of \"GENE003\"\n",
        "index = gene_ids.index(\"GENE003\")\n",
        "print(f\"Index of 'GENE003': {index}\")\n",
        "\n",
        "# Remove the first occurrence of \"GENE002\"\n",
        "gene_ids.remove(\"GENE002\")\n",
        "print(f\"After removing first 'GENE002': {gene_ids}\")\n",
        "\n",
        "# Remove element at index 1 and return it\n",
        "popped_element = gene_ids.pop(1)\n",
        "print(f\"After popping element at index 1: {gene_ids}\")\n",
        "print(f\"Popped element: {popped_element}\")"
      ],
      "metadata": {
        "colab": {
          "base_uri": "https://localhost:8080/"
        },
        "id": "ZVhSMVtNvH2e",
        "outputId": "541bd637-68d6-4567-db11-5ae906fb9220"
      },
      "execution_count": null,
      "outputs": [
        {
          "output_type": "stream",
          "name": "stdout",
          "text": [
            "Count of 'GENE002': 2\n",
            "Index of 'GENE003': 2\n",
            "After removing first 'GENE002': ['GENE001', 'GENE003', 'GENE002']\n",
            "After popping element at index 1: ['GENE001', 'GENE002']\n",
            "Popped element: GENE003\n"
          ]
        }
      ]
    },
    {
      "cell_type": "markdown",
      "source": [
        "\n",
        "\n",
        "---\n",
        "\n"
      ],
      "metadata": {
        "id": "gK-Nqxagwck-"
      }
    },
    {
      "cell_type": "code",
      "source": [
        "#Imagine you have data from a high-throughput screening experiment where you tested different compounds against different protein targets. You can represent this data using a nested list:\n",
        "compound_data = [\n",
        "[\"CompoundA\", 0.5, 0.8, 0.2],  # [Compound Name, Target1 IC50, Target2 IC50, Target3 IC50]\n",
        "[\"CompoundB\", 1.2, 0.5, 0.9],\n",
        "[\"CompoundC\", 0.3, 1.0, 0.6]\n",
        "]\n",
        "#Accessing the IC50 value of CompoundB for Target2\n",
        "ic50_value = compound_data[1][2] #Row 1, Column 2\n",
        "print(ic50_value)"
      ],
      "metadata": {
        "colab": {
          "base_uri": "https://localhost:8080/"
        },
        "id": "VJCFxJiVxA4X",
        "outputId": "1375c985-41ba-488c-bffd-f1dbba05a3dc"
      },
      "execution_count": null,
      "outputs": [
        {
          "output_type": "stream",
          "name": "stdout",
          "text": [
            "0.5\n"
          ]
        }
      ]
    },
    {
      "cell_type": "code",
      "source": [
        "#Imagine you have two lists: one containing gene names and another containing their corresponding expression levels from a microarray experiment.\n",
        "genes = [\"TP53\", \"BRCA1\", \"EGFR\"]\n",
        "expression_levels = [10.5, 8.2, 12.1]\n",
        "\n",
        "#You can combine these two lists into a list of tuples using the zip function:\n",
        "gene_expression = list(zip(genes, expression_levels))  # Results in [('TP53', 10.5), ('BRCA1', 8.2), ('EGFR', 12.1)]\n",
        "print(gene_expression)\n",
        "\n",
        "#You can \"unzip\" this list of tuples back into separate lists using the zip function along with the * operator:\n",
        "genes, expression_levels = zip(*gene_expression)\n",
        "print(genes)\n",
        "print(expression_levels)"
      ],
      "metadata": {
        "colab": {
          "base_uri": "https://localhost:8080/"
        },
        "id": "5B2TbVLcxokK",
        "outputId": "c89f4082-8ae3-4805-d394-eba19c96230d"
      },
      "execution_count": null,
      "outputs": [
        {
          "output_type": "stream",
          "name": "stdout",
          "text": [
            "[('TP53', 10.5), ('BRCA1', 8.2), ('EGFR', 12.1)]\n",
            "('TP53', 'BRCA1', 'EGFR')\n",
            "(10.5, 8.2, 12.1)\n"
          ]
        }
      ]
    },
    {
      "cell_type": "markdown",
      "source": [
        "Given a list of gene expression levels, create a new list containing only the genes with expression levels above a certain threshold."
      ],
      "metadata": {
        "id": "7UevSKc4oFM2"
      }
    },
    {
      "cell_type": "code",
      "source": [
        "genes = [\"TA52\",\"AC52\",\"EP71\"]\n",
        "expression_levels = [2.1,2.3,8.9]\n",
        "\n",
        "# Create new lists with elements where expression_levels is > 2.5\n",
        "# We iterate through the lists using indices and check the condition\n",
        "filtered_genes = []\n",
        "filtered_expression_levels = []\n",
        "\n",
        "for i in range(len(expression_levels)):\n",
        "    if expression_levels[i] < 2.5:\n",
        "        filtered_genes.append(genes[i])\n",
        "        filtered_expression_levels.append(expression_levels[i])\n",
        "\n",
        "print(\"Genes with expression level < 2.5:\", filtered_genes)\n",
        "print(\"Expression levels < 2.5:\", filtered_expression_levels)\n",
        "\n",
        "# If you specifically wanted to \"pop\" elements that meet the condition\n",
        "# and get a list of the popped genes, it's more complex.\n",
        "# A common way is to iterate backwards and remove.\n",
        "# Let's demonstrate that if needed, but creating filtered lists is often clearer."
      ],
      "metadata": {
        "colab": {
          "base_uri": "https://localhost:8080/"
        },
        "id": "5-Qlv6LjzDmb",
        "outputId": "3b71a92c-8be8-4434-83d3-d8e3c773738f"
      },
      "execution_count": null,
      "outputs": [
        {
          "output_type": "stream",
          "name": "stdout",
          "text": [
            "Genes with expression level < 2.5: ['TA52', 'AC52']\n",
            "Expression levels < 2.5: [2.1, 2.3]\n"
          ]
        }
      ]
    },
    {
      "cell_type": "markdown",
      "source": [
        "You have two lists of amino acid sequences. Calculate the alignment score for each pair of sequences (one from each list) using a simple scoring system (e.g., match = +1, mismatch = -1).\n"
      ],
      "metadata": {
        "id": "nj45qoRXoJA-"
      }
    },
    {
      "cell_type": "code",
      "source": [
        "Seq_1 = \"ACYCNNKL\"\n",
        "Seq_2 = \"DNRMNNKLTMKL\"\n",
        "match_results = [] # Use a list to store the result of each comparison\n",
        "\n",
        "print(\"Comparing sequences:\")\n",
        "# Iterate through both sequences up to the length of the shorter one\n",
        "for i in range(min(len(Seq_1), len(Seq_2))):\n",
        "    amino_acid_1 = Seq_1[i]\n",
        "    amino_acid_2 = Seq_2[i]\n",
        "    if amino_acid_1 == amino_acid_2:\n",
        "        result = \"Match\"\n",
        "    else:\n",
        "        result = \"Mismatch\"\n",
        "    match_results.append(result)\n",
        "    print(f\"Position {i}: {amino_acid_1} vs {amino_acid_2} -> {result}\")\n",
        "\n",
        "print(f\"\\nSummary of comparison results: {match_results}\")\n",
        "\n",
        "# You could also count matches and mismatches:\n",
        "match_count = match_results.count(\"Match\")\n",
        "mismatch_count = match_results.count(\"Mismatch\")\n",
        "\n",
        "print(f\"\\nTotal comparisons: {len(match_results)}\")\n",
        "print(f\"Matches: {match_count}\")\n",
        "print(f\"Mismatches: {mismatch_count}\")"
      ],
      "metadata": {
        "colab": {
          "base_uri": "https://localhost:8080/"
        },
        "id": "7dlQyzEUlHrU",
        "outputId": "564c4e7c-d46a-4518-a99f-b0d94f5a4d47"
      },
      "execution_count": null,
      "outputs": [
        {
          "output_type": "stream",
          "name": "stdout",
          "text": [
            "Comparing sequences:\n",
            "Position 0: A vs D -> Mismatch\n",
            "Position 1: C vs N -> Mismatch\n",
            "Position 2: Y vs R -> Mismatch\n",
            "Position 3: C vs M -> Mismatch\n",
            "Position 4: N vs N -> Match\n",
            "Position 5: N vs N -> Match\n",
            "Position 6: K vs K -> Match\n",
            "Position 7: L vs L -> Match\n",
            "\n",
            "Summary of comparison results: ['Mismatch', 'Mismatch', 'Mismatch', 'Mismatch', 'Match', 'Match', 'Match', 'Match']\n",
            "\n",
            "Total comparisons: 8\n",
            "Matches: 4\n",
            "Mismatches: 4\n"
          ]
        }
      ]
    },
    {
      "cell_type": "markdown",
      "source": [
        "Given a list of experimental results (e.g., IC50 values for different compounds), calculate the average, minimum, and maximum values."
      ],
      "metadata": {
        "id": "fg2dp-mwomay"
      }
    },
    {
      "cell_type": "code",
      "source": [
        "results = (1.3, 2.1, 2.3, 1.3, 5.2)\n",
        "\n",
        "suma_valores = sum(results)\n",
        "cantidad = len(results)\n",
        "average_results = suma_valores / cantidad\n",
        "\n",
        "max_value = max(results)\n",
        "min_value = min(results)\n",
        "\n",
        "print(f'The average value is: {average_results}')\n",
        "print(f'The maximum value is: {max_value}')\n",
        "print(f'The minimum value is: {min_value}')"
      ],
      "metadata": {
        "colab": {
          "base_uri": "https://localhost:8080/"
        },
        "id": "zYb0o3Kmoo2C",
        "outputId": "f54cd673-5969-4885-f145-4f87a35722d7"
      },
      "execution_count": null,
      "outputs": [
        {
          "output_type": "stream",
          "name": "stdout",
          "text": [
            "The average value is: 2.44\n",
            "The maximum value is: 5.2\n",
            "The minimum value is: 1.3\n"
          ]
        }
      ]
    },
    {
      "cell_type": "markdown",
      "source": [
        "Given a list of gene IDs and a dictionary mapping gene IDs to functional annotations, create a new dictionary containing only the genes with specific annotations (e.g., \"kinase\")."
      ],
      "metadata": {
        "id": "wdm8bz1cx_mc"
      }
    },
    {
      "cell_type": "code",
      "source": [
        "# Given list of gene IDs (corrected to be a list of strings)\n",
        "gene_ids = [\"AD9\", \"AD8\", \"FD1\", \"AP3\"]\n",
        "\n",
        "# Given dictionary mapping gene IDs to functional annotations\n",
        "gene_info = {\n",
        "    \"AD9\": \"Kinase\",\n",
        "    \"AD8\": \"Transcription factor\",\n",
        "    \"FD1\": \"Receptor\",\n",
        "    \"AP3\": \"Kinase\"\n",
        "}\n",
        "\n",
        "# Specific annotation to filter by (corrected syntax)\n",
        "target_annotation = \"Kinase\"\n",
        "\n",
        "# Create a new dictionary for genes with the target annotation (corrected variable name)\n",
        "filtered_genes_with_annotation = {}\n",
        "\n",
        "# Iterate through the list of gene IDs\n",
        "for gene_id in gene_ids:\n",
        "    # Check if the gene ID is in the gene_info dictionary\n",
        "    if gene_id in gene_info:\n",
        "        # Get the annotation for the current gene ID\n",
        "        annotation = gene_info[gene_id]\n",
        "        # Check if the annotation matches the target annotation (corrected syntax and variable name)\n",
        "        if annotation == target_annotation:\n",
        "            # Add the gene ID and its annotation to the new dictionary (corrected variable name)\n",
        "            filtered_genes_with_annotation[gene_id] = annotation\n",
        "\n",
        "# Print the resulting dictionary (corrected indentation and variable name)\n",
        "print(f\"Genes with '{target_annotation}' annotation: {filtered_genes_with_annotation}\")"
      ],
      "metadata": {
        "colab": {
          "base_uri": "https://localhost:8080/"
        },
        "id": "ywsqb93v62bm",
        "outputId": "144708e6-7316-4ffb-9ad7-5e0de016cdd9"
      },
      "execution_count": null,
      "outputs": [
        {
          "output_type": "stream",
          "name": "stdout",
          "text": [
            "Genes with 'Kinase' annotation: {'AD9': 'Kinase', 'AP3': 'Kinase'}\n"
          ]
        }
      ]
    }
  ]
}